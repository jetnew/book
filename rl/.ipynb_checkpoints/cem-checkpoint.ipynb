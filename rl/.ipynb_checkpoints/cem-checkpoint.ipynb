{
 "cells": [
  {
   "cell_type": "markdown",
   "id": "44a55e40-bec0-43db-a0e9-8128d31ef597",
   "metadata": {},
   "source": [
    "# Cross Entropy Method\n",
    "\n",
    "The Cross Entropy Method (CEM) is a gradient-free method of optimization commonly used for planning in model-based reinforcement learning.\n",
    "\n",
    "## CEM Algorithm\n",
    "\n",
    "1. Create a Gaussian distribution $N(\\mu,\\sigma)$ that describes the weights $\\theta$ of the neural network.\n",
    "2. Sample $N$ batch samples of $\\theta$ from the Gaussian.\n",
    "3. Evaluate all $N$ samples of $\\theta$ using the value function, e.g. running trials.\n",
    "4. Select the top % of the samples of $\\theta$ and compute the new $\\mu$ and $\\sigma$ to parameterise the new Gaussian distribution.\n",
    "5. Repeat steps 1-4 until convergence."
   ]
  },
  {
   "cell_type": "code",
   "execution_count": 1,
   "id": "323f9e37-ac15-4daf-b6f2-e757a81c8e6c",
   "metadata": {},
   "outputs": [],
   "source": [
    "import numpy as np\n",
    "import tensorflow_probability as tfp\n",
    "tfd = tfp.distributions\n",
    "import gym"
   ]
  },
  {
   "cell_type": "code",
   "execution_count": 2,
   "id": "70c14ff3-7816-412f-884f-f6f8721cee06",
   "metadata": {},
   "outputs": [],
   "source": [
    "# RL Gym\n",
    "env = gym.make('CartPole-v0')\n",
    "\n",
    "# Initialisation\n",
    "n = 10  # number of candidate policies\n",
    "top_k = 0.40  # top % selected for next iteration\n",
    "mean = np.zeros((5,2))  # shape = (n_parameters, n_actions)\n",
    "stddev = np.ones((5,2))  # shape = (n_parameters, n_actions)"
   ]
  },
  {
   "cell_type": "code",
   "execution_count": 3,
   "id": "44215749-6bec-477f-9dc9-dff051ceed58",
   "metadata": {},
   "outputs": [],
   "source": [
    "def get_batch_weights(mean, stddev, n):\n",
    "    mvn = tfd.MultivariateNormalDiag(\n",
    "        loc=mean,\n",
    "        scale_diag=stddev)\n",
    "    return mvn.sample(n).numpy()\n",
    "\n",
    "def policy(obs, weights):\n",
    "    return np.argmax(obs @ weights[:4,:] + weights[4])\n",
    "\n",
    "def run_trial(weights, render=False):\n",
    "    obs = env.reset()\n",
    "    done = False\n",
    "    reward = 0\n",
    "    while not done:\n",
    "        a = policy(obs, weights)\n",
    "        obs, r, done, _ = env.step(a)\n",
    "        reward += r\n",
    "        if render:\n",
    "            env.render()\n",
    "    return reward\n",
    "\n",
    "def get_new_mean_stddev(rewards, batch_weights):\n",
    "    idx = np.argsort(rewards)[::-1][:int(n*top_k)]\n",
    "    mean = np.mean(batch_weights[idx], axis=0)\n",
    "    stddev = np.sqrt(np.var(batch_weights[idx], axis=0))\n",
    "    return mean, stddev"
   ]
  },
  {
   "cell_type": "code",
   "execution_count": 4,
   "id": "b3eff3b0-e313-45bd-9040-85d47ceb6d95",
   "metadata": {},
   "outputs": [
    {
     "name": "stdout",
     "output_type": "stream",
     "text": [
      "[20.0, 10.0, 9.0, 16.0, 22.0, 10.0, 10.0, 10.0, 10.0, 9.0]\n",
      "[30.0, 56.0, 26.0, 125.0, 13.0, 9.0, 9.0, 114.0, 28.0, 8.0]\n",
      "[89.0, 111.0, 69.0, 9.0, 200.0, 69.0, 200.0, 105.0, 12.0, 31.0]\n",
      "[94.0, 128.0, 57.0, 30.0, 122.0, 107.0, 69.0, 37.0, 37.0, 141.0]\n",
      "[200.0, 200.0, 89.0, 200.0, 140.0, 91.0, 102.0, 149.0, 21.0, 81.0]\n",
      "[200.0, 154.0, 10.0, 112.0, 114.0, 187.0, 200.0, 200.0, 136.0, 149.0]\n",
      "[200.0, 200.0, 200.0, 200.0, 200.0, 200.0, 149.0, 200.0, 200.0, 200.0]\n",
      "[200.0, 200.0, 134.0, 200.0, 200.0, 200.0, 180.0, 200.0, 200.0, 200.0]\n",
      "[200.0, 200.0, 200.0, 200.0, 200.0, 200.0, 200.0, 200.0, 200.0, 200.0]\n",
      "[200.0, 200.0, 200.0, 200.0, 200.0, 200.0, 200.0, 160.0, 131.0, 200.0]\n",
      "[200.0, 152.0, 163.0, 200.0, 153.0, 200.0, 200.0, 131.0, 200.0, 200.0]\n",
      "[200.0, 200.0, 200.0, 200.0, 200.0, 200.0, 200.0, 200.0, 200.0, 200.0]\n",
      "[200.0, 200.0, 200.0, 200.0, 200.0, 200.0, 200.0, 200.0, 200.0, 200.0]\n",
      "[200.0, 200.0, 200.0, 200.0, 200.0, 200.0, 200.0, 200.0, 200.0, 200.0]\n",
      "[200.0, 200.0, 200.0, 200.0, 200.0, 200.0, 200.0, 200.0, 200.0, 200.0]\n",
      "[200.0, 200.0, 200.0, 200.0, 200.0, 200.0, 200.0, 200.0, 200.0, 200.0]\n",
      "[200.0, 200.0, 200.0, 200.0, 200.0, 200.0, 200.0, 200.0, 200.0, 200.0]\n",
      "[200.0, 200.0, 200.0, 200.0, 200.0, 200.0, 200.0, 200.0, 200.0, 200.0]\n",
      "[200.0, 200.0, 200.0, 200.0, 200.0, 200.0, 200.0, 200.0, 200.0, 200.0]\n",
      "[200.0, 200.0, 200.0, 200.0, 200.0, 200.0, 200.0, 200.0, 200.0, 200.0]\n"
     ]
    }
   ],
   "source": [
    "for i in range(20):\n",
    "    batch_weights = get_batch_weights(mean, stddev, n)\n",
    "    rewards = [run_trial(weights) for weights in batch_weights]\n",
    "    mean, stddev = get_new_mean_stddev(rewards, batch_weights)\n",
    "    print(rewards)"
   ]
  },
  {
   "cell_type": "code",
   "execution_count": 5,
   "id": "802ce0b4-038e-46b8-983c-79d4004253bd",
   "metadata": {},
   "outputs": [
    {
     "data": {
      "text/plain": [
       "(array([[-0.48842902, -0.20315496],\n",
       "        [ 1.05925976,  1.55983425],\n",
       "        [-0.83255259,  1.6572544 ],\n",
       "        [-3.46168438, -0.27580643],\n",
       "        [ 0.16817479, -0.15037121]]),\n",
       " array([[0.00026762, 0.00022525],\n",
       "        [0.00595117, 0.00055989],\n",
       "        [0.00042871, 0.09129609],\n",
       "        [0.00033094, 0.00030441],\n",
       "        [0.00055258, 0.00365766]]))"
      ]
     },
     "execution_count": 5,
     "metadata": {},
     "output_type": "execute_result"
    }
   ],
   "source": [
    "mean, stddev"
   ]
  },
  {
   "cell_type": "code",
   "execution_count": 6,
   "id": "3f09172d-14b8-473f-ae61-8b8da45fbe8c",
   "metadata": {},
   "outputs": [],
   "source": [
    "best_weights = get_batch_weights(mean, stddev, 1)[0]"
   ]
  },
  {
   "cell_type": "code",
   "execution_count": 7,
   "id": "3e516571-8a7e-4580-8bc9-44d2f033f8e8",
   "metadata": {},
   "outputs": [
    {
     "data": {
      "text/plain": [
       "200.0"
      ]
     },
     "execution_count": 7,
     "metadata": {},
     "output_type": "execute_result"
    }
   ],
   "source": [
    "run_trial(best_weights, render=True)"
   ]
  }
 ],
 "metadata": {
  "kernelspec": {
   "display_name": "Python (book)",
   "language": "python",
   "name": "book"
  },
  "language_info": {
   "codemirror_mode": {
    "name": "ipython",
    "version": 3
   },
   "file_extension": ".py",
   "mimetype": "text/x-python",
   "name": "python",
   "nbconvert_exporter": "python",
   "pygments_lexer": "ipython3",
   "version": "3.8.10"
  }
 },
 "nbformat": 4,
 "nbformat_minor": 5
}
