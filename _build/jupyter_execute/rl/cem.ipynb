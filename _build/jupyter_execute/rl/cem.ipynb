{
 "cells": [
  {
   "cell_type": "markdown",
   "id": "44a55e40-bec0-43db-a0e9-8128d31ef597",
   "metadata": {},
   "source": [
    "# Cross Entropy Method\n",
    "\n",
    "The Cross Entropy Method (CEM) is a gradient-free method of optimization commonly used for planning in model-based reinforcement learning.\n",
    "\n",
    "## CEM Algorithm\n",
    "\n",
    "1. Create a Gaussian distribution $N(\\mu,\\sigma)$ that describes the weights $\\theta$ of the neural network.\n",
    "2. Sample $N$ batch samples of $\\theta$ from the Gaussian.\n",
    "3. Evaluate all $N$ samples of $\\theta$ using the value function, e.g. running trials.\n",
    "4. Select the top % of the samples of $\\theta$ and compute the new $\\mu$ and $\\sigma$ to parameterise the new Gaussian distribution.\n",
    "5. Repeat steps 1-4 until convergence."
   ]
  },
  {
   "cell_type": "code",
   "execution_count": 1,
   "id": "323f9e37-ac15-4daf-b6f2-e757a81c8e6c",
   "metadata": {},
   "outputs": [],
   "source": [
    "import numpy as np\n",
    "import tensorflow_probability as tfp\n",
    "tfd = tfp.distributions\n",
    "import gym"
   ]
  },
  {
   "cell_type": "code",
   "execution_count": 2,
   "id": "70c14ff3-7816-412f-884f-f6f8721cee06",
   "metadata": {},
   "outputs": [],
   "source": [
    "# RL Gym\n",
    "env = gym.make('CartPole-v0')\n",
    "\n",
    "# Initialisation\n",
    "n = 10  # number of candidate policies\n",
    "top_k = 0.40  # top % selected for next iteration\n",
    "mean = np.zeros((5,2))  # shape = (n_parameters, n_actions)\n",
    "stddev = np.ones((5,2))  # shape = (n_parameters, n_actions)"
   ]
  },
  {
   "cell_type": "code",
   "execution_count": 3,
   "id": "44215749-6bec-477f-9dc9-dff051ceed58",
   "metadata": {},
   "outputs": [],
   "source": [
    "def get_batch_weights(mean, stddev, n):\n",
    "    mvn = tfd.MultivariateNormalDiag(\n",
    "        loc=mean,\n",
    "        scale_diag=stddev)\n",
    "    return mvn.sample(n).numpy()\n",
    "\n",
    "def policy(obs, weights):\n",
    "    return np.argmax(obs @ weights[:4,:] + weights[4])\n",
    "\n",
    "def run_trial(weights, render=False):\n",
    "    obs = env.reset()\n",
    "    done = False\n",
    "    reward = 0\n",
    "    while not done:\n",
    "        a = policy(obs, weights)\n",
    "        obs, r, done, _ = env.step(a)\n",
    "        reward += r\n",
    "        if render:\n",
    "            env.render()\n",
    "    return reward\n",
    "\n",
    "def get_new_mean_stddev(rewards, batch_weights):\n",
    "    idx = np.argsort(rewards)[::-1][:int(n*top_k)]\n",
    "    mean = np.mean(batch_weights[idx], axis=0)\n",
    "    stddev = np.sqrt(np.var(batch_weights[idx], axis=0))\n",
    "    return mean, stddev"
   ]
  },
  {
   "cell_type": "code",
   "execution_count": 4,
   "id": "b3eff3b0-e313-45bd-9040-85d47ceb6d95",
   "metadata": {},
   "outputs": [
    {
     "name": "stdout",
     "output_type": "stream",
     "text": [
      "[10.0, 16.0, 10.0, 28.0, 8.0, 136.0, 9.0, 9.0, 9.0, 19.0]\n",
      "[43.0, 21.0, 9.0, 58.0, 51.0, 29.0, 91.0, 27.0, 8.0, 29.0]\n",
      "[43.0, 42.0, 73.0, 62.0, 51.0, 107.0, 89.0, 28.0, 61.0, 28.0]\n",
      "[64.0, 32.0, 78.0, 77.0, 42.0, 150.0, 45.0, 49.0, 61.0, 65.0]\n",
      "[62.0, 129.0, 76.0, 62.0, 153.0, 200.0, 56.0, 46.0, 57.0, 60.0]\n",
      "[81.0, 52.0, 84.0, 67.0, 60.0, 104.0, 56.0, 61.0, 200.0, 78.0]\n",
      "[51.0, 51.0, 104.0, 84.0, 84.0, 197.0, 200.0, 89.0, 145.0, 92.0]\n",
      "[66.0, 65.0, 126.0, 115.0, 69.0, 69.0, 85.0, 131.0, 94.0, 55.0]\n",
      "[200.0, 157.0, 88.0, 110.0, 72.0, 130.0, 72.0, 82.0, 127.0, 194.0]\n"
     ]
    },
    {
     "name": "stdout",
     "output_type": "stream",
     "text": [
      "[118.0, 139.0, 109.0, 77.0, 148.0, 117.0, 62.0, 98.0, 110.0, 178.0]\n",
      "[121.0, 123.0, 117.0, 104.0, 172.0, 89.0, 74.0, 168.0, 117.0, 200.0]\n",
      "[163.0, 69.0, 163.0, 200.0, 158.0, 89.0, 128.0, 200.0, 138.0, 167.0]\n",
      "[200.0, 96.0, 76.0, 88.0, 200.0, 90.0, 108.0, 108.0, 83.0, 153.0]\n",
      "[179.0, 200.0, 200.0, 79.0, 111.0, 81.0, 151.0, 200.0, 147.0, 74.0]\n",
      "[200.0, 124.0, 144.0, 200.0, 78.0, 83.0, 150.0, 147.0, 154.0, 93.0]\n",
      "[116.0, 117.0, 200.0, 79.0, 101.0, 89.0, 105.0, 117.0, 200.0, 109.0]\n"
     ]
    },
    {
     "name": "stdout",
     "output_type": "stream",
     "text": [
      "[109.0, 132.0, 136.0, 200.0, 98.0, 200.0, 94.0, 106.0, 100.0, 200.0]\n",
      "[147.0, 155.0, 107.0, 200.0, 123.0, 167.0, 155.0, 200.0, 126.0, 142.0]\n",
      "[131.0, 73.0, 200.0, 200.0, 89.0, 91.0, 156.0, 200.0, 149.0, 154.0]\n",
      "[105.0, 112.0, 98.0, 115.0, 200.0, 187.0, 94.0, 89.0, 180.0, 93.0]\n"
     ]
    }
   ],
   "source": [
    "for i in range(20):\n",
    "    batch_weights = get_batch_weights(mean, stddev, n)\n",
    "    rewards = [run_trial(weights) for weights in batch_weights]\n",
    "    mean, stddev = get_new_mean_stddev(rewards, batch_weights)\n",
    "    print(rewards)"
   ]
  },
  {
   "cell_type": "code",
   "execution_count": 5,
   "id": "802ce0b4-038e-46b8-983c-79d4004253bd",
   "metadata": {},
   "outputs": [
    {
     "data": {
      "text/plain": [
       "(array([[ 0.50994191,  0.1539059 ],\n",
       "        [ 0.5951551 ,  0.350758  ],\n",
       "        [ 0.05404847,  0.39404   ],\n",
       "        [-2.6360502 ,  0.22584736],\n",
       "        [ 0.16629546,  0.16006943]]),\n",
       " array([[2.42495267e-04, 1.78857471e-04],\n",
       "        [1.01732459e-04, 2.03337057e-01],\n",
       "        [3.68772396e-04, 8.44550279e-04],\n",
       "        [1.10036801e-03, 2.23453546e-04],\n",
       "        [6.53310535e-05, 9.51211939e-05]]))"
      ]
     },
     "execution_count": 5,
     "metadata": {},
     "output_type": "execute_result"
    }
   ],
   "source": [
    "mean, stddev"
   ]
  },
  {
   "cell_type": "code",
   "execution_count": 6,
   "id": "3f09172d-14b8-473f-ae61-8b8da45fbe8c",
   "metadata": {},
   "outputs": [],
   "source": [
    "best_weights = get_batch_weights(mean, stddev, 1)[0]"
   ]
  },
  {
   "cell_type": "code",
   "execution_count": 7,
   "id": "3e516571-8a7e-4580-8bc9-44d2f033f8e8",
   "metadata": {},
   "outputs": [
    {
     "data": {
      "text/plain": [
       "83.0"
      ]
     },
     "execution_count": 7,
     "metadata": {},
     "output_type": "execute_result"
    }
   ],
   "source": [
    "run_trial(best_weights, render=True)"
   ]
  }
 ],
 "metadata": {
  "kernelspec": {
   "display_name": "Python (book)",
   "language": "python",
   "name": "book"
  },
  "language_info": {
   "codemirror_mode": {
    "name": "ipython",
    "version": 3
   },
   "file_extension": ".py",
   "mimetype": "text/x-python",
   "name": "python",
   "nbconvert_exporter": "python",
   "pygments_lexer": "ipython3",
   "version": "3.8.10"
  }
 },
 "nbformat": 4,
 "nbformat_minor": 5
}