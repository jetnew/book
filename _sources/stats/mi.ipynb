{
 "cells": [
  {
   "cell_type": "markdown",
   "id": "f68a8ee2",
   "metadata": {},
   "source": [
    "# Mutual Information\n",
    "\n",
    "Mutual information is a measure of the reduction in uncertainty for one variable given a known value of another variable:\n",
    "\n",
    "$$I(X,Y)=H(X)-H(X|Y)$$\n",
    "\n",
    "where $I(X,Y)$ is the mutual information for $X$ and $Y$, $H(X)$ is the entropy for $X$, $H(X|Y)$ is the conditional entropy for $X$ given $Y$.\n",
    "\n",
    "Mutual information is symmetric:\n",
    "\n",
    "$$I(X,Y)=I(Y,X)$$\n",
    "\n",
    "Mutual information can be calculated as the KL divergence between the joint distribution and the product of marginal probabilities for each variable:\n",
    "\n",
    "$$I(X,Y)=KL(P(X,Y)||P(X)\\times P(Y))$$\n",
    "\n",
    "Mutual information and information gain are computed equivalently, and therefore MI is sometimes used as as a synonym for information gain:\n",
    "\n",
    "$$IG(S,a)=H(S)-H(S|a)$$"
   ]
  }
 ],
 "metadata": {
  "kernelspec": {
   "display_name": "Python (book)",
   "language": "python",
   "name": "book"
  },
  "language_info": {
   "codemirror_mode": {
    "name": "ipython",
    "version": 3
   },
   "file_extension": ".py",
   "mimetype": "text/x-python",
   "name": "python",
   "nbconvert_exporter": "python",
   "pygments_lexer": "ipython3",
   "version": "3.8.10"
  },
  "widgets": {
   "application/vnd.jupyter.widget-state+json": {
    "state": {},
    "version_major": 2,
    "version_minor": 0
   }
  }
 },
 "nbformat": 4,
 "nbformat_minor": 5
}
